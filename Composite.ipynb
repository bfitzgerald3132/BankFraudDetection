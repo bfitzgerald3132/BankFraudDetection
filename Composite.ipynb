{
 "cells": [
  {
   "cell_type": "code",
   "execution_count": null,
   "id": "96fdca6e-477b-429e-87fa-334dd5f16b94",
   "metadata": {
    "tags": []
   },
   "outputs": [],
   "source": [
    "from pandas.api.types import is_string_dtype, is_numeric_dtype, is_categorical_dtype\n",
    "from fastai.tabular.all import *\n",
    "from sklearn.utils import shuffle\n",
    "from sklearn.preprocessing import normalize, Normalizer\n",
    "from sklearn.ensemble import RandomForestRegressor\n",
    "from sklearn.tree import DecisionTreeRegressor\n",
    "from sklearn import metrics\n",
    "from tqdm import tqdm\n",
    "from IPython.display import Image, display_svg, SVG\n",
    "import os\n",
    "from fastai.metrics import RocAuc"
   ]
  },
  {
   "cell_type": "code",
   "execution_count": 62,
   "id": "66c90e15-09b8-4c19-a73c-a61409b850b0",
   "metadata": {
    "tags": []
   },
   "outputs": [],
   "source": [
    "valid_pct = 0.2"
   ]
  },
  {
   "cell_type": "code",
   "execution_count": 102,
   "id": "4337a191-b733-434c-999d-3231d7cc7785",
   "metadata": {
    "tags": []
   },
   "outputs": [],
   "source": [
    "data = pd.read_csv(\"archive/Base.csv\")\n",
    "for file in os.listdir(\"archive\")[1:]:\n",
    "    new = pd.read_csv(\"archive/\" + file)\n",
    "    data = pd.concat([data, new])\n",
    "data = shuffle(data)\n",
    "data = data.drop([\"x1,\" \"x2\", \"month\"], axis=1) # Drop \"velocity_6h\", \"velocity_4w\", "
   ]
  },
  {
   "cell_type": "code",
   "execution_count": 109,
   "id": "1b08bf31-749b-4e2b-84b6-db5f6d5f1eb1",
   "metadata": {
    "tags": []
   },
   "outputs": [],
   "source": [
    "procs = [Categorify] # Normalizer\n",
    "dep_var = \"fraud_bool\"\n",
    "cont,cat = cont_cat_split(data, 1, dep_var=dep_var)\n",
    "valid = TabularPandas(data[0:int(len(data)*valid_pct)], procs, cat, cont, y_names=dep_var)\n",
    "train = TabularPandas(data[len(valid):len(data)], procs, cat, cont, y_names=dep_var)"
   ]
  },
  {
   "cell_type": "code",
   "execution_count": 110,
   "id": "9089d0b9-a978-4aad-93b5-df100a359f07",
   "metadata": {
    "tags": []
   },
   "outputs": [],
   "source": [
    "m = rf(train.xs, train.y)"
   ]
  },
  {
   "cell_type": "code",
   "execution_count": null,
   "id": "0274bf06-e123-4137-9eb2-04b908e74b22",
   "metadata": {
    "tags": []
   },
   "outputs": [],
   "source": [
    "predictions = np.stack([t.predict(valid.xs) for t in m.estimators_]).mean(0)\n",
    "targets = np.array(valid.y)"
   ]
  },
  {
   "cell_type": "code",
   "execution_count": 121,
   "id": "fa247149-2562-4d5b-a10f-6ba28ff70ef5",
   "metadata": {
    "tags": []
   },
   "outputs": [
    {
     "name": "stdout",
     "output_type": "stream",
     "text": [
      "Accuracy: 98.88825 %\n",
      "False positive rate (FPR): 1.1133333333333333 %\n"
     ]
    }
   ],
   "source": [
    "false_positive_rate = fp_rate(predictions, targets) * 100\n",
    "accuracy = get_accuracy(predictions, targets) * 100\n",
    "\n",
    "print(\"Accuracy: \" + str(accuracy) + \" %\")\n",
    "print(\"False positive rate (FPR): \" + str(false_positive_rate) + \" %\")"
   ]
  },
  {
   "cell_type": "code",
   "execution_count": 117,
   "id": "1db6369f-eaac-4d3b-9411-b0ad96b7a4b2",
   "metadata": {
    "tags": []
   },
   "outputs": [],
   "source": [
    "def fp_rate(preds, targs):\n",
    "    fps = 0\n",
    "    for i in range_of(preds):\n",
    "        if targs[i] == 1: fps += 1\n",
    "    return fps / len(preds)\n",
    "def get_accuracy(preds, targets):\n",
    "    corrects = 0;\n",
    "    for pred, target in list(zip(preds, targets)):\n",
    "        if (abs(pred - target) < 0.5): corrects += 1\n",
    "    return corrects / len(preds)\n",
    "def rf(xs, y, n_estimators=40, max_samples=200_000,\n",
    "       max_features=0.5, min_samples_leaf=5, **kwargs):\n",
    "    return RandomForestRegressor(n_jobs=-1, n_estimators=n_estimators, max_samples=max_samples, \n",
    "                                 max_features=max_features, min_samples_leaf=min_samples_leaf, oob_score=True).fit(xs, y)"
   ]
  }
 ],
 "metadata": {
  "kernelspec": {
   "display_name": "Python 3 (ipykernel)",
   "language": "python",
   "name": "python3"
  },
  "language_info": {
   "codemirror_mode": {
    "name": "ipython",
    "version": 3
   },
   "file_extension": ".py",
   "mimetype": "text/x-python",
   "name": "python",
   "nbconvert_exporter": "python",
   "pygments_lexer": "ipython3",
   "version": "3.11.5"
  }
 },
 "nbformat": 4,
 "nbformat_minor": 5
}
